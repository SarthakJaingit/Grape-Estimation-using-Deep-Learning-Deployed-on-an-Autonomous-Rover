{
  "nbformat": 4,
  "nbformat_minor": 0,
  "metadata": {
    "colab": {
      "name": "GrapeYieldSegmentation.ipynb",
      "provenance": [],
      "collapsed_sections": []
    },
    "kernelspec": {
      "name": "python3",
      "display_name": "Python 3"
    },
    "language_info": {
      "name": "python"
    }
  },
  "cells": [
    {
      "cell_type": "code",
      "metadata": {
        "id": "wppu1ObBLKOp"
      },
      "source": [
        "import glob\n",
        "import os \n",
        "import cv2\n",
        "import numpy as np\n",
        "import matplotlib.pyplot as plt\n",
        "import json\n",
        "import torch "
      ],
      "execution_count": 1,
      "outputs": []
    },
    {
      "cell_type": "code",
      "metadata": {
        "id": "GEupixzJLM4r"
      },
      "source": [
        "import zipfile\n",
        "with zipfile.ZipFile(\"/content/PracData.zip\", 'r') as zip_ref:\n",
        "    zip_ref.extractall()"
      ],
      "execution_count": 2,
      "outputs": []
    },
    {
      "cell_type": "markdown",
      "metadata": {
        "id": "GG523lRVLNjG"
      },
      "source": [
        "# Websites to check out: \n",
        "\n",
        "* Work with tensorboard\n",
        "\n",
        "How to build the UNet\n",
        "* https://amaarora.github.io/2020/09/13/unet.html\n",
        "* https://github.com/milesial/Pytorch-UNet\n",
        "\n",
        "StackOverFlow\n",
        "* https://stackoverflow.com/questions/47845059/how-to-make-segmentation-mask-given-region-marked-with-dotted-line-in-python\n",
        "\n",
        "\n"
      ]
    },
    {
      "cell_type": "code",
      "metadata": {
        "id": "ilkFwx5tLlN7"
      },
      "source": [
        "class GrapeDataset():\n",
        "\n",
        "  def __init__(self, image_root_path, annot_root_path, classes):\n",
        "\n",
        "    self.image_file_paths = glob.glob(os.path.join(image_root_path, \"*.png\"))\n",
        "    self.annot_file_paths = glob.glob(os.path.join(annot_root_path, \"*.json\"))\n",
        "    self.classes = classes\n",
        " \n",
        "  def __getitem__(self, idx): \n",
        "\n",
        "    img_path = self.image_file_paths[idx]\n",
        "    annot_path = self.annot_file_paths[idx]\n",
        "\n",
        "    img = cv2.cvtColor(cv2.imread(img_path, cv2.IMREAD_COLOR), cv2.COLOR_BGR2RGB).astype(np.float32) / 255.0\n",
        "    annot_file = open(annot_path)\n",
        "    annot = json.load(annot_file)\n",
        "\n",
        "    # Make code work for two images and objects\n",
        "    aligned_coord, area, labels, is_crowd = list(), list(), list(), list() \n",
        "\n",
        "    for obj in annot[\"annotations\"]:\n",
        "      area.append(obj[\"area\"])\n",
        "      is_crowd.append(obj[\"iscrowd\"])\n",
        "      obj_coord = obj[\"segmentation\"][0]\n",
        "      obj_aligned_coord = list()\n",
        "      for ii, coord in enumerate(obj_coord):\n",
        "        if ii % 2 == 1:\n",
        "          continue\n",
        "        else:\n",
        "          obj_aligned_coord.append([obj_coord[ii], obj_coord[ii + 1]])\n",
        "      aligned_coord.append(obj_aligned_coord)\n",
        "\n",
        "    height, width = annot[\"images\"][0][\"height\"], annot[\"images\"][0][\"width\"]\n",
        "    mask = np.zeros((width, height,3), np.uint8)\n",
        "\n",
        "    for obj in aligned_coord:\n",
        "      obj = np.array(obj)\n",
        "      cv2.drawContours(mask, [obj.astype(int)],-1, (0,255,0), -1)\n",
        "      cv2.polylines(mask, [obj.astype(int)], isClosed=True, color=(255,0,0), thickness=2)\n",
        "    \n",
        "\n",
        "    ## Change labels from bbox labels to pixel wise labels.\n",
        "    for obj in annot[\"categories\"]:\n",
        "      labels.append(self.classes.index(obj['name']))\n",
        "    \n",
        "    target = dict()\n",
        "    target[\"image_id\"] = torch.tensor([annot[\"images\"][0][\"id\"]])\n",
        "    target[\"labels\"] =\n",
        "\n",
        "\n",
        "    \n",
        "    \n",
        "    \n",
        "    \n",
        "\n",
        "    # plt.imshow(mask)\n",
        "\n",
        "\n",
        "\n",
        "\n",
        "\n",
        "\n",
        "\n",
        "    target = dict() \n",
        "    \n",
        "\n",
        "\n",
        "    # images\n",
        "    # print(annot)\n",
        "    # print(annot[\"annotations\"][0][\"segmentation\"])\n",
        "    \n",
        "\n",
        "\n"
      ],
      "execution_count": 52,
      "outputs": []
    },
    {
      "cell_type": "code",
      "metadata": {
        "id": "UkcaT3u9qPpn"
      },
      "source": [
        ""
      ],
      "execution_count": null,
      "outputs": []
    },
    {
      "cell_type": "code",
      "metadata": {
        "colab": {
          "base_uri": "https://localhost:8080/",
          "height": 323
        },
        "id": "7B_YsJf5jslp",
        "outputId": "1de64c33-2c29-4588-8903-568b938f8de6"
      },
      "source": [
        "grapeDataset = GrapeDataset(\"/content/PracData/Images\", \"/content/PracData/Labels\", [\"Grape\", \"Apple\"])\n",
        "grapeDataset[0]"
      ],
      "execution_count": 53,
      "outputs": [
        {
          "output_type": "stream",
          "text": [
            "[0, 0]\n",
            "{'info': {'description': 'my-project-name'}, 'images': [{'id': 1, 'width': 300, 'height': 300, 'file_name': 'small_img.png'}], 'annotations': [{'id': 0, 'iscrowd': 0, 'image_id': 1, 'category_id': 1, 'segmentation': [[122.6027397260274, 49.31506849315068, 160.50228310502283, 46.57534246575342, 212.10045662100455, 72.6027397260274, 242.2374429223744, 127.85388127853881, 228.08219178082192, 203.19634703196346, 160.95890410958904, 242.92237442922374, 80.59360730593608, 227.8538812785388, 48.17351598173516, 161.18721461187215, 55.93607305936073, 100.4566210045662]], 'bbox': [48.17351598173516, 46.57534246575342, 194.06392694063925, 196.34703196347033], 'area': 28618.669335501763}, {'id': 1, 'iscrowd': 0, 'image_id': 1, 'category_id': 2, 'segmentation': [[266.43835616438355, 10.045662100456621, 300, 32.42009132420091, 300, 118.2648401826484, 226.25570776255705, 52.054794520547944, 206.62100456621005, 10.50228310502283, 236.7579908675799, 2.28310502283105]], 'bbox': [206.62100456621005, 2.28310502283105, 93.37899543378995, 115.98173515981735], 'area': 5805.967348470638}], 'categories': [{'id': 1, 'name': 'Grape'}, {'id': 2, 'name': 'Apple'}]}\n"
          ],
          "name": "stdout"
        },
        {
          "output_type": "display_data",
          "data": {
            "image/png": "[encoded data removed]",
            "text/plain": [
              "<Figure size 432x288 with 1 Axes>"
            ]
          },
          "metadata": {
            "tags": [],
            "needs_background": "light"
          }
        }
      ]
    }
  ]
}